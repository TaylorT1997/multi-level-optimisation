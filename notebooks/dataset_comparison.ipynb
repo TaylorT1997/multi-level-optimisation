{
 "cells": [
  {
   "cell_type": "code",
   "execution_count": 24,
   "source": [
    "import numpy as np\n",
    "import matplotlib.pyplot as plt\n",
    "import seaborn as sns\n",
    "import sys\n",
    "sys.path.insert(0,'..')\n",
    "sns.set()\n",
    "\n",
    "from torch.utils.data import DataLoader, Dataset, random_split, Subset\n",
    "from transformers import RobertaTokenizerFast\n",
    "\n",
    "from src.data_loading.datasets import BinaryTokenTSVDataset"
   ],
   "outputs": [],
   "metadata": {}
  },
  {
   "cell_type": "markdown",
   "source": [
    "# CoNLL-10"
   ],
   "metadata": {}
  },
  {
   "cell_type": "code",
   "execution_count": 11,
   "source": [
    "train_dataset = BinaryTokenTSVDataset(\n",
    "    dataset_name=\"conll_10\",\n",
    "    tokenizer=RobertaTokenizerFast.from_pretrained(\"roberta-base\", add_prefix_space=True),\n",
    "    root_dir=\"/home/tom/Projects/multi-level-optimisation/\",\n",
    "    mode=\"train\",\n",
    "    token_label_mode=\"first\",\n",
    "    wi_locness_type=\"ABC\",\n",
    "    include_special_tokens=False,\n",
    "    use_lowercase=True,\n",
    "    max_sequence_length=512,\n",
    ")"
   ],
   "outputs": [],
   "metadata": {}
  },
  {
   "cell_type": "code",
   "execution_count": 12,
   "source": [
    "val_dataset = BinaryTokenTSVDataset(\n",
    "    dataset_name=\"conll_10\",\n",
    "    tokenizer=RobertaTokenizerFast.from_pretrained(\"roberta-base\", add_prefix_space=True),\n",
    "    root_dir=\"/home/tom/Projects/multi-level-optimisation/\",\n",
    "    mode=\"dev\",\n",
    "    token_label_mode=\"first\",\n",
    "    wi_locness_type=\"ABC\",\n",
    "    include_special_tokens=False,\n",
    "    use_lowercase=True,\n",
    "    max_sequence_length=512,\n",
    ")"
   ],
   "outputs": [],
   "metadata": {}
  },
  {
   "cell_type": "code",
   "execution_count": 13,
   "source": [
    "def collate_fn(batch):\n",
    "    sequences, labels, token_labels = [], [], []\n",
    "    for sequence, label, token_label in batch:\n",
    "        sequences.append(sequence)\n",
    "        labels.append(label)\n",
    "        token_labels.append(token_label)\n",
    "    return sequences, labels, token_labels"
   ],
   "outputs": [],
   "metadata": {}
  },
  {
   "cell_type": "code",
   "execution_count": 27,
   "source": [
    "train_loader = DataLoader(\n",
    "    train_dataset, batch_size=32, shuffle=False, collate_fn=collate_fn\n",
    ")\n",
    "\n",
    "val_loader = DataLoader(\n",
    "    val_dataset, batch_size=32, shuffle=False, collate_fn=collate_fn\n",
    ")"
   ],
   "outputs": [],
   "metadata": {}
  },
  {
   "cell_type": "code",
   "execution_count": 36,
   "source": [
    "sequence_lengths = []\n",
    "positive_token_labels = []\n",
    "\n",
    "for idx, (sequences, labels, token_labels) in enumerate(train_loader):\n",
    "    for labels in token_labels:\n",
    "        positive_token_labels.append(labels.count(1))\n",
    "        sequence_lengths.append(len(labels))\n",
    "\n",
    "for idx, (sequences, labels, token_labels) in enumerate(val_loader):\n",
    "    for labels in token_labels:\n",
    "        positive_token_labels.append(labels.count(1))\n",
    "        sequence_lengths.append(len(labels))\n",
    "\n",
    "sequence_lengths = np.array(sequence_lengths)\n",
    "positive_token_labels = np.array(positive_token_labels)\n"
   ],
   "outputs": [],
   "metadata": {}
  },
  {
   "cell_type": "code",
   "execution_count": 35,
   "source": [
    "plt.hist(sequence_lengths, bins=50)\n",
    "plt.xlabel(\"Sequence length\")\n",
    "plt.ylabel(\"Count\")\n",
    "plt.show()"
   ],
   "outputs": [
    {
     "output_type": "display_data",
     "data": {
      "text/plain": [
       "<Figure size 432x288 with 1 Axes>"
      ],
      "image/png": "[encoded data removed]"
     },
     "metadata": {}
    }
   ],
   "metadata": {}
  },
  {
   "cell_type": "code",
   "execution_count": 38,
   "source": [
    "num_samples = len(sequence_lengths)\n",
    "num_negatives = sum(positive_token_labels==0)\n",
    "num_positives = sum(positive_token_labels>0)\n",
    "\n",
    "print(f\"Number of samples: {num_samples}\")\n",
    "print(f\"Number of negative samples: {num_negatives}\")\n",
    "print(f\"Number of positive samples: {num_positives}\")\n",
    "print(f\"Negative/positive ratio: {num_negatives/num_positives:.4f}\")"
   ],
   "outputs": [
    {
     "output_type": "stream",
     "name": "stdout",
     "text": [
      "Number of samples: 14541\n",
      "Number of negative samples: 11921\n",
      "Number of positive samples: 2620\n",
      "Negative/positive ratio: 4.5500\n"
     ]
    }
   ],
   "metadata": {}
  },
  {
   "cell_type": "code",
   "execution_count": null,
   "source": [],
   "outputs": [],
   "metadata": {}
  },
  {
   "cell_type": "markdown",
   "source": [
    "# FCE"
   ],
   "metadata": {}
  },
  {
   "cell_type": "code",
   "execution_count": 39,
   "source": [
    "train_dataset = BinaryTokenTSVDataset(\n",
    "    dataset_name=\"fce\",\n",
    "    tokenizer=RobertaTokenizerFast.from_pretrained(\"roberta-base\", add_prefix_space=True),\n",
    "    root_dir=\"/home/tom/Projects/multi-level-optimisation/\",\n",
    "    mode=\"train\",\n",
    "    token_label_mode=\"first\",\n",
    "    wi_locness_type=\"ABC\",\n",
    "    include_special_tokens=False,\n",
    "    use_lowercase=True,\n",
    "    max_sequence_length=512,\n",
    ")"
   ],
   "outputs": [],
   "metadata": {}
  },
  {
   "cell_type": "code",
   "execution_count": 40,
   "source": [
    "val_dataset = BinaryTokenTSVDataset(\n",
    "    dataset_name=\"fce\",\n",
    "    tokenizer=RobertaTokenizerFast.from_pretrained(\"roberta-base\", add_prefix_space=True),\n",
    "    root_dir=\"/home/tom/Projects/multi-level-optimisation/\",\n",
    "    mode=\"dev\",\n",
    "    token_label_mode=\"first\",\n",
    "    wi_locness_type=\"ABC\",\n",
    "    include_special_tokens=False,\n",
    "    use_lowercase=True,\n",
    "    max_sequence_length=512,\n",
    ")"
   ],
   "outputs": [],
   "metadata": {}
  },
  {
   "cell_type": "code",
   "execution_count": 41,
   "source": [
    "def collate_fn(batch):\n",
    "    sequences, labels, token_labels = [], [], []\n",
    "    for sequence, label, token_label in batch:\n",
    "        sequences.append(sequence)\n",
    "        labels.append(label)\n",
    "        token_labels.append(token_label)\n",
    "    return sequences, labels, token_labels"
   ],
   "outputs": [],
   "metadata": {}
  },
  {
   "cell_type": "code",
   "execution_count": 42,
   "source": [
    "train_loader = DataLoader(\n",
    "    train_dataset, batch_size=32, shuffle=False, collate_fn=collate_fn\n",
    ")\n",
    "\n",
    "val_loader = DataLoader(\n",
    "    val_dataset, batch_size=32, shuffle=False, collate_fn=collate_fn\n",
    ")"
   ],
   "outputs": [],
   "metadata": {}
  },
  {
   "cell_type": "code",
   "execution_count": 43,
   "source": [
    "sequence_lengths = []\n",
    "positive_token_labels = []\n",
    "\n",
    "for idx, (sequences, labels, token_labels) in enumerate(train_loader):\n",
    "    for labels in token_labels:\n",
    "        positive_token_labels.append(labels.count(1))\n",
    "        sequence_lengths.append(len(labels))\n",
    "\n",
    "for idx, (sequences, labels, token_labels) in enumerate(val_loader):\n",
    "    for labels in token_labels:\n",
    "        positive_token_labels.append(labels.count(1))\n",
    "        sequence_lengths.append(len(labels))\n",
    "\n",
    "sequence_lengths = np.array(sequence_lengths)\n",
    "positive_token_labels = np.array(positive_token_labels)\n"
   ],
   "outputs": [],
   "metadata": {}
  },
  {
   "cell_type": "code",
   "execution_count": 44,
   "source": [
    "plt.hist(sequence_lengths, bins=50)\n",
    "plt.xlabel(\"Sequence length\")\n",
    "plt.ylabel(\"Count\")\n",
    "plt.show()"
   ],
   "outputs": [
    {
     "output_type": "display_data",
     "data": {
      "text/plain": [
       "<Figure size 432x288 with 1 Axes>"
      ],
      "image/png": "[encoded data removed]"
     },
     "metadata": {}
    }
   ],
   "metadata": {}
  },
  {
   "cell_type": "code",
   "execution_count": 45,
   "source": [
    "num_samples = len(sequence_lengths)\n",
    "num_negatives = sum(positive_token_labels==0)\n",
    "num_positives = sum(positive_token_labels>0)\n",
    "\n",
    "print(f\"Number of samples: {num_samples}\")\n",
    "print(f\"Number of negative samples: {num_negatives}\")\n",
    "print(f\"Number of positive samples: {num_positives}\")\n",
    "print(f\"Negative/positive ratio: {num_negatives/num_positives:.4f}\")"
   ],
   "outputs": [
    {
     "output_type": "stream",
     "name": "stdout",
     "text": [
      "Number of samples: 30541\n",
      "Number of negative samples: 11142\n",
      "Number of positive samples: 19399\n",
      "Negative/positive ratio: 0.5744\n"
     ]
    }
   ],
   "metadata": {}
  },
  {
   "cell_type": "markdown",
   "source": [
    "# WI+LOCNESS"
   ],
   "metadata": {}
  },
  {
   "cell_type": "code",
   "execution_count": 53,
   "source": [
    "train_dataset = BinaryTokenTSVDataset(\n",
    "    dataset_name=\"wi_locness\",\n",
    "    tokenizer=RobertaTokenizerFast.from_pretrained(\"roberta-base\", add_prefix_space=True),\n",
    "    root_dir=\"/home/tom/Projects/multi-level-optimisation/\",\n",
    "    mode=\"train\",\n",
    "    token_label_mode=\"first\",\n",
    "    wi_locness_type=\"ABC\",\n",
    "    include_special_tokens=False,\n",
    "    use_lowercase=True,\n",
    "    max_sequence_length=512,\n",
    ")"
   ],
   "outputs": [],
   "metadata": {}
  },
  {
   "cell_type": "code",
   "execution_count": 54,
   "source": [
    "def collate_fn(batch):\n",
    "    sequences, labels, token_labels = [], [], []\n",
    "    for sequence, label, token_label in batch:\n",
    "        sequences.append(sequence)\n",
    "        labels.append(label)\n",
    "        token_labels.append(token_label)\n",
    "    return sequences, labels, token_labels"
   ],
   "outputs": [],
   "metadata": {}
  },
  {
   "cell_type": "code",
   "execution_count": 55,
   "source": [
    "train_loader = DataLoader(\n",
    "    train_dataset, batch_size=32, shuffle=False, collate_fn=collate_fn\n",
    ")"
   ],
   "outputs": [],
   "metadata": {}
  },
  {
   "cell_type": "code",
   "execution_count": 56,
   "source": [
    "sequence_lengths = []\n",
    "positive_token_labels = []\n",
    "\n",
    "for idx, (sequences, labels, token_labels) in enumerate(train_loader):\n",
    "    for labels in token_labels:\n",
    "        positive_token_labels.append(labels.count(1))\n",
    "        sequence_lengths.append(len(labels))\n",
    "\n",
    "sequence_lengths = np.array(sequence_lengths)\n",
    "positive_token_labels = np.array(positive_token_labels)\n"
   ],
   "outputs": [],
   "metadata": {}
  },
  {
   "cell_type": "code",
   "execution_count": 57,
   "source": [
    "plt.hist(sequence_lengths, bins=50)\n",
    "plt.xlabel(\"Sequence length\")\n",
    "plt.ylabel(\"Count\")\n",
    "plt.show()"
   ],
   "outputs": [
    {
     "output_type": "display_data",
     "data": {
      "text/plain": [
       "<Figure size 432x288 with 1 Axes>"
      ],
      "image/png": "[encoded data removed]"
     },
     "metadata": {}
    }
   ],
   "metadata": {}
  },
  {
   "cell_type": "code",
   "execution_count": 58,
   "source": [
    "num_samples = len(sequence_lengths)\n",
    "num_negatives = sum(positive_token_labels==0)\n",
    "num_positives = sum(positive_token_labels>0)\n",
    "\n",
    "print(f\"Number of samples: {num_samples}\")\n",
    "print(f\"Number of negative samples: {num_negatives}\")\n",
    "print(f\"Number of positive samples: {num_positives}\")\n",
    "print(f\"Negative/positive ratio: {num_negatives/num_positives:.4f}\")"
   ],
   "outputs": [
    {
     "output_type": "stream",
     "name": "stdout",
     "text": [
      "Number of samples: 34308\n",
      "Number of negative samples: 11329\n",
      "Number of positive samples: 22979\n",
      "Negative/positive ratio: 0.4930\n"
     ]
    }
   ],
   "metadata": {}
  },
  {
   "cell_type": "code",
   "execution_count": null,
   "source": [],
   "outputs": [],
   "metadata": {}
  },
  {
   "cell_type": "markdown",
   "source": [
    "# Toxic"
   ],
   "metadata": {}
  },
  {
   "cell_type": "code",
   "execution_count": 46,
   "source": [
    "train_dataset = BinaryTokenTSVDataset(\n",
    "    dataset_name=\"toxic\",\n",
    "    tokenizer=RobertaTokenizerFast.from_pretrained(\"roberta-base\", add_prefix_space=True),\n",
    "    root_dir=\"/home/tom/Projects/multi-level-optimisation/\",\n",
    "    mode=\"train\",\n",
    "    token_label_mode=\"first\",\n",
    "    wi_locness_type=\"ABC\",\n",
    "    include_special_tokens=False,\n",
    "    use_lowercase=True,\n",
    "    max_sequence_length=512,\n",
    ")"
   ],
   "outputs": [],
   "metadata": {}
  },
  {
   "cell_type": "code",
   "execution_count": 47,
   "source": [
    "val_dataset = BinaryTokenTSVDataset(\n",
    "    dataset_name=\"toxic\",\n",
    "    tokenizer=RobertaTokenizerFast.from_pretrained(\"roberta-base\", add_prefix_space=True),\n",
    "    root_dir=\"/home/tom/Projects/multi-level-optimisation/\",\n",
    "    mode=\"dev\",\n",
    "    token_label_mode=\"first\",\n",
    "    wi_locness_type=\"ABC\",\n",
    "    include_special_tokens=False,\n",
    "    use_lowercase=True,\n",
    "    max_sequence_length=512,\n",
    ")"
   ],
   "outputs": [],
   "metadata": {}
  },
  {
   "cell_type": "code",
   "execution_count": 48,
   "source": [
    "def collate_fn(batch):\n",
    "    sequences, labels, token_labels = [], [], []\n",
    "    for sequence, label, token_label in batch:\n",
    "        sequences.append(sequence)\n",
    "        labels.append(label)\n",
    "        token_labels.append(token_label)\n",
    "    return sequences, labels, token_labels"
   ],
   "outputs": [],
   "metadata": {}
  },
  {
   "cell_type": "code",
   "execution_count": 49,
   "source": [
    "train_loader = DataLoader(\n",
    "    train_dataset, batch_size=32, shuffle=False, collate_fn=collate_fn\n",
    ")\n",
    "\n",
    "val_loader = DataLoader(\n",
    "    val_dataset, batch_size=32, shuffle=False, collate_fn=collate_fn\n",
    ")"
   ],
   "outputs": [],
   "metadata": {}
  },
  {
   "cell_type": "code",
   "execution_count": 50,
   "source": [
    "sequence_lengths = []\n",
    "positive_token_labels = []\n",
    "\n",
    "for idx, (sequences, labels, token_labels) in enumerate(train_loader):\n",
    "    for labels in token_labels:\n",
    "        positive_token_labels.append(labels.count(1))\n",
    "        sequence_lengths.append(len(labels))\n",
    "\n",
    "for idx, (sequences, labels, token_labels) in enumerate(val_loader):\n",
    "    for labels in token_labels:\n",
    "        positive_token_labels.append(labels.count(1))\n",
    "        sequence_lengths.append(len(labels))\n",
    "\n",
    "sequence_lengths = np.array(sequence_lengths)\n",
    "positive_token_labels = np.array(positive_token_labels)\n"
   ],
   "outputs": [],
   "metadata": {}
  },
  {
   "cell_type": "code",
   "execution_count": 51,
   "source": [
    "plt.hist(sequence_lengths, bins=50)\n",
    "plt.xlabel(\"Sequence length\")\n",
    "plt.ylabel(\"Count\")\n",
    "plt.show()"
   ],
   "outputs": [
    {
     "output_type": "display_data",
     "data": {
      "text/plain": [
       "<Figure size 432x288 with 1 Axes>"
      ],
      "image/png": "[encoded data removed]"
     },
     "metadata": {}
    }
   ],
   "metadata": {}
  },
  {
   "cell_type": "code",
   "execution_count": 52,
   "source": [
    "num_samples = len(sequence_lengths)\n",
    "num_negatives = sum(positive_token_labels==0)\n",
    "num_positives = sum(positive_token_labels>0)\n",
    "\n",
    "print(f\"Number of samples: {num_samples}\")\n",
    "print(f\"Number of negative samples: {num_negatives}\")\n",
    "print(f\"Number of positive samples: {num_positives}\")\n",
    "print(f\"Negative/positive ratio: {num_negatives/num_positives:.4f}\")"
   ],
   "outputs": [
    {
     "output_type": "stream",
     "name": "stdout",
     "text": [
      "Number of samples: 8610\n",
      "Number of negative samples: 707\n",
      "Number of positive samples: 7903\n",
      "Negative/positive ratio: 0.0895\n"
     ]
    }
   ],
   "metadata": {}
  }
 ],
 "metadata": {
  "orig_nbformat": 4,
  "language_info": {
   "name": "python",
   "version": "3.6.13",
   "mimetype": "text/x-python",
   "codemirror_mode": {
    "name": "ipython",
    "version": 3
   },
   "pygments_lexer": "ipython3",
   "nbconvert_exporter": "python",
   "file_extension": ".py"
  },
  "kernelspec": {
   "name": "python3",
   "display_name": "Python 3.6.13 64-bit ('mlo': conda)"
  },
  "interpreter": {
   "hash": "abb2cb76335e17f998bb1c45cf54676892e04cee9701593aebf3ae470b0ae763"
  }
 },
 "nbformat": 4,
 "nbformat_minor": 2
}